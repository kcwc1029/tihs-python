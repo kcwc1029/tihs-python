{
 "cells": [
  {
   "cell_type": "markdown",
   "metadata": {},
   "source": [
    "安裝甚麼的，TA擔心會嚇到你們，所以就換個方式\n",
    "\n",
    "總之，當你們成功看到這串文字時，就代表你們已經成功了XD\n",
    "\n",
    "<img src=\"https://raw.githubusercontent.com/kcwc1029/obsidian-upgit-image/main/2025/03/upgit_20250323_1742717740.png\" height=\"200\">"
   ]
  },
  {
   "cell_type": "markdown",
   "metadata": {},
   "source": [
    "蛤!你說你已經可以寫程式了????\n",
    "\n",
    "蛤!你說你已經已經在寫程式了????\n",
    "\n",
    "\n",
    "ww我們來測試看看吧\n",
    "\n",
    "基本的寫程式，好歹要可以跑一些算術吧，我們來試試看吧"
   ]
  },
  {
   "cell_type": "code",
   "execution_count": null,
   "metadata": {},
   "outputs": [],
   "source": []
  }
 ],
 "metadata": {
  "kernelspec": {
   "display_name": "base",
   "language": "python",
   "name": "python3"
  },
  "language_info": {
   "name": "python",
   "version": "3.12.3"
  }
 },
 "nbformat": 4,
 "nbformat_minor": 2
}
