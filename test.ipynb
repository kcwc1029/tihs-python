{
 "cells": [
  {
   "cell_type": "markdown",
   "metadata": {},
   "source": [
    "安裝甚麼的，TA擔心會嚇到你們，所以就換個方式\n",
    "\n",
    "總之，當你們成功看到這串文字時，就代表你們已經成功了XD\n",
    "\n",
    "<img src=\"https://raw.githubusercontent.com/kcwc1029/obsidian-upgit-image/main/2025/03/upgit_20250323_1742717740.png\" height=\"200\">"
   ]
  },
  {
   "cell_type": "markdown",
   "metadata": {},
   "source": [
    "##  嘗試計算"
   ]
  },
  {
   "cell_type": "markdown",
   "metadata": {},
   "source": [
    "蛤!你說你已經可以寫程式了????\n",
    "\n",
    "蛤!你說你已經已經在寫程式了????\n",
    "\n",
    "\n",
    "ww我們來測試看看吧\n",
    "\n",
    "基本的寫程式，好歹要可以跑一些算術吧，我們來試試看吧"
   ]
  },
  {
   "cell_type": "code",
   "execution_count": 1,
   "metadata": {},
   "outputs": [
    {
     "data": {
      "text/plain": [
       "3"
      ]
     },
     "execution_count": 1,
     "metadata": {},
     "output_type": "execute_result"
    }
   ],
   "source": [
    "1 + 2"
   ]
  },
  {
   "cell_type": "code",
   "execution_count": 2,
   "metadata": {},
   "outputs": [
    {
     "data": {
      "text/plain": [
       "56"
      ]
     },
     "execution_count": 2,
     "metadata": {},
     "output_type": "execute_result"
    }
   ],
   "source": [
    "7 * 8"
   ]
  },
  {
   "cell_type": "code",
   "execution_count": 3,
   "metadata": {},
   "outputs": [
    {
     "data": {
      "text/plain": [
       "5.0"
      ]
     },
     "execution_count": 3,
     "metadata": {},
     "output_type": "execute_result"
    }
   ],
   "source": [
    "10/2"
   ]
  },
  {
   "cell_type": "markdown",
   "metadata": {},
   "source": [
    "> 補充：\n",
    "> 整數(int)、浮點數(float)"
   ]
  },
  {
   "cell_type": "markdown",
   "metadata": {},
   "source": [
    "那如果我來做一些奇怪的事怎麼樣ww"
   ]
  },
  {
   "cell_type": "code",
   "execution_count": 4,
   "metadata": {},
   "outputs": [
    {
     "ename": "ZeroDivisionError",
     "evalue": "division by zero",
     "output_type": "error",
     "traceback": [
      "\u001b[1;31m---------------------------------------------------------------------------\u001b[0m",
      "\u001b[1;31mZeroDivisionError\u001b[0m                         Traceback (most recent call last)",
      "Cell \u001b[1;32mIn[4], line 1\u001b[0m\n\u001b[1;32m----> 1\u001b[0m \u001b[38;5;241m10\u001b[39m\u001b[38;5;241m/\u001b[39m\u001b[38;5;241m0\u001b[39m\n",
      "\u001b[1;31mZeroDivisionError\u001b[0m: division by zero"
     ]
    }
   ],
   "source": [
    "10/0"
   ]
  },
  {
   "cell_type": "markdown",
   "metadata": {},
   "source": [
    "## 嘗試輸入字串\n",
    "\n",
    "我們來試試看【文字】"
   ]
  },
  {
   "cell_type": "code",
   "execution_count": 7,
   "metadata": {},
   "outputs": [
    {
     "ename": "NameError",
     "evalue": "name '你好' is not defined",
     "output_type": "error",
     "traceback": [
      "\u001b[1;31m---------------------------------------------------------------------------\u001b[0m",
      "\u001b[1;31mNameError\u001b[0m                                 Traceback (most recent call last)",
      "Cell \u001b[1;32mIn[7], line 1\u001b[0m\n\u001b[1;32m----> 1\u001b[0m 你好\n",
      "\u001b[1;31mNameError\u001b[0m: name '你好' is not defined"
     ]
    }
   ],
   "source": [
    "你好"
   ]
  },
  {
   "cell_type": "code",
   "execution_count": 9,
   "metadata": {},
   "outputs": [
    {
     "data": {
      "text/plain": [
       "'你好'"
      ]
     },
     "execution_count": 9,
     "metadata": {},
     "output_type": "execute_result"
    }
   ],
   "source": [
    "\"你好\"\n",
    "\n",
    "# 可以用單引號或雙引號"
   ]
  },
  {
   "cell_type": "markdown",
   "metadata": {},
   "source": [
    "## 輸出月曆\n",
    "\n",
    "<img src=\"https://i.pinimg.com/236x/b3/6b/95/b36b9501aecb662cb3cc6a4fb6421635.jpg\" height=\"200\">\n",
    "\n",
    "阿，助教想起來，助教這個月好像要跟雷姆一起去看電影，但忘記是哪一天了(阿!!!!!!)(崩潰)\n",
    "\n",
    "小朋友，你可以幫我看一下這個月的時間嗎\n",
    "\n"
   ]
  },
  {
   "cell_type": "markdown",
   "metadata": {},
   "source": [
    "(突然換個正式口吻)\n",
    "\n",
    "> 補充：檔案(模組module)的載入方式\n",
    "> \n",
    "> 東西不是一次載入進來，而是【需要甚麼，才載入甚麼】\n",
    "\n",
    "因此，我們現在需要【月曆模組】我們要如何載入他呢"
   ]
  },
  {
   "cell_type": "code",
   "execution_count": 11,
   "metadata": {},
   "outputs": [],
   "source": [
    "import calendar\n",
    "\n",
    "# 載入後。就可以開心使用摟"
   ]
  },
  {
   "cell_type": "code",
   "execution_count": 14,
   "metadata": {},
   "outputs": [
    {
     "data": {
      "text/plain": [
       "'     April 2025\\nMo Tu We Th Fr Sa Su\\n    1  2  3  4  5  6\\n 7  8  9 10 11 12 13\\n14 15 16 17 18 19 20\\n21 22 23 24 25 26 27\\n28 29 30\\n'"
      ]
     },
     "execution_count": 14,
     "metadata": {},
     "output_type": "execute_result"
    }
   ],
   "source": [
    "# 查看2025年4月的天數\n",
    "calendar.month(2025,4)"
   ]
  },
  {
   "cell_type": "markdown",
   "metadata": {},
   "source": [
    "> 補充\n",
    "> 其實我們上述的程式碼，在按下【enter】後，他只是【吐回】你要的資料\n",
    "> \n",
    "> 但如果我們今天是要把吐回來的資料給【印出來】呢?\n",
    ">\n",
    "> 答案就是~~ print"
   ]
  },
  {
   "cell_type": "code",
   "execution_count": 16,
   "metadata": {},
   "outputs": [
    {
     "name": "stdout",
     "output_type": "stream",
     "text": [
      "hello world\n"
     ]
    }
   ],
   "source": [
    "print(\"hello world\")"
   ]
  },
  {
   "cell_type": "code",
   "execution_count": 17,
   "metadata": {},
   "outputs": [
    {
     "name": "stdout",
     "output_type": "stream",
     "text": [
      "     April 2025\n",
      "Mo Tu We Th Fr Sa Su\n",
      "    1  2  3  4  5  6\n",
      " 7  8  9 10 11 12 13\n",
      "14 15 16 17 18 19 20\n",
      "21 22 23 24 25 26 27\n",
      "28 29 30\n",
      "\n"
     ]
    }
   ],
   "source": [
    "import calendar\n",
    "\n",
    "print(calendar.month(2025,4))"
   ]
  },
  {
   "cell_type": "markdown",
   "metadata": {},
   "source": [
    "阿!完了，好像不是這個月，你可以再幫我把整年都掉出來嗎?"
   ]
  },
  {
   "cell_type": "code",
   "execution_count": 19,
   "metadata": {},
   "outputs": [
    {
     "name": "stdout",
     "output_type": "stream",
     "text": [
      "                                  2025\n",
      "\n",
      "      January                   February                   March\n",
      "Mo Tu We Th Fr Sa Su      Mo Tu We Th Fr Sa Su      Mo Tu We Th Fr Sa Su\n",
      "       1  2  3  4  5                      1  2                      1  2\n",
      " 6  7  8  9 10 11 12       3  4  5  6  7  8  9       3  4  5  6  7  8  9\n",
      "13 14 15 16 17 18 19      10 11 12 13 14 15 16      10 11 12 13 14 15 16\n",
      "20 21 22 23 24 25 26      17 18 19 20 21 22 23      17 18 19 20 21 22 23\n",
      "27 28 29 30 31            24 25 26 27 28            24 25 26 27 28 29 30\n",
      "                                                    31\n",
      "\n",
      "       April                      May                       June\n",
      "Mo Tu We Th Fr Sa Su      Mo Tu We Th Fr Sa Su      Mo Tu We Th Fr Sa Su\n",
      "    1  2  3  4  5  6                1  2  3  4                         1\n",
      " 7  8  9 10 11 12 13       5  6  7  8  9 10 11       2  3  4  5  6  7  8\n",
      "14 15 16 17 18 19 20      12 13 14 15 16 17 18       9 10 11 12 13 14 15\n",
      "21 22 23 24 25 26 27      19 20 21 22 23 24 25      16 17 18 19 20 21 22\n",
      "28 29 30                  26 27 28 29 30 31         23 24 25 26 27 28 29\n",
      "                                                    30\n",
      "\n",
      "        July                     August                  September\n",
      "Mo Tu We Th Fr Sa Su      Mo Tu We Th Fr Sa Su      Mo Tu We Th Fr Sa Su\n",
      "    1  2  3  4  5  6                   1  2  3       1  2  3  4  5  6  7\n",
      " 7  8  9 10 11 12 13       4  5  6  7  8  9 10       8  9 10 11 12 13 14\n",
      "14 15 16 17 18 19 20      11 12 13 14 15 16 17      15 16 17 18 19 20 21\n",
      "21 22 23 24 25 26 27      18 19 20 21 22 23 24      22 23 24 25 26 27 28\n",
      "28 29 30 31               25 26 27 28 29 30 31      29 30\n",
      "\n",
      "      October                   November                  December\n",
      "Mo Tu We Th Fr Sa Su      Mo Tu We Th Fr Sa Su      Mo Tu We Th Fr Sa Su\n",
      "       1  2  3  4  5                      1  2       1  2  3  4  5  6  7\n",
      " 6  7  8  9 10 11 12       3  4  5  6  7  8  9       8  9 10 11 12 13 14\n",
      "13 14 15 16 17 18 19      10 11 12 13 14 15 16      15 16 17 18 19 20 21\n",
      "20 21 22 23 24 25 26      17 18 19 20 21 22 23      22 23 24 25 26 27 28\n",
      "27 28 29 30 31            24 25 26 27 28 29 30      29 30 31\n",
      "None\n"
     ]
    }
   ],
   "source": [
    "import calendar\n",
    "\n",
    "print(calendar.prcal(2025))"
   ]
  },
  {
   "cell_type": "markdown",
   "metadata": {},
   "source": [
    "## 變數\n",
    "\n",
    "- 那其實，我們盡可能的會把我們要的東西，用一個【變數】去代表他\n",
    "- 假設我今天要輸出的內容超級長，我總不能讓費時間在打內容本身吧XD\n",
    "\n",
    "<img src=\"https://i.pinimg.com/736x/80/c5/dc/80c5dc6e76d420402d307ff3bc98ad77.jpg\" height=\"200\">"
   ]
  },
  {
   "cell_type": "code",
   "execution_count": 23,
   "metadata": {},
   "outputs": [
    {
     "name": "stdout",
     "output_type": "stream",
     "text": [
      "從零開始的異世界生活\n",
      "從零開始的異世界生活\n",
      "從零開始的異世界生活\n"
     ]
    }
   ],
   "source": [
    "# bad\n",
    "print(\"從零開始的異世界生活\")\n",
    "print(\"從零開始的異世界生活\")\n",
    "\n",
    "# good\n",
    "t = \"從零開始的異世界生活\"\n",
    "print(t)"
   ]
  },
  {
   "cell_type": "markdown",
   "metadata": {},
   "source": [
    "## 變數命名方式\n",
    "\n",
    "這很重要，名子取不好的話，助教就會氣到發光歐\n",
    "\n",
    "<img src=\"https://i.pinimg.com/736x/0a/a9/ab/0aa9ab859dd588935dc1113db802fcbe.jpg\" height=\"200\">\n",
    "\n",
    "\n",
    "success\n",
    "- x = 0\n",
    "- gold = 1000\n",
    "- TA = \"助教好可愛\"\n",
    "- TA_cute = \"助教好可愛\"\n",
    "\n",
    "error\n",
    "- 1play = 0 # 數字不可以開頭\n",
    "- @play = 0 # 特殊文字不可以開頭\n",
    "- if = 0 # 保留字不可以使用"
   ]
  },
  {
   "cell_type": "markdown",
   "metadata": {},
   "source": [
    "## 資料類型(data type)\n"
   ]
  },
  {
   "cell_type": "markdown",
   "metadata": {},
   "source": [
    "## 條件句if/else\n",
    "\n",
    "> 這是助教在【Re:從零開始的異世界生活】最喜歡的三個角色(阿還有愛姬多那)\n",
    "> \n",
    "> <img src=\"https://i.pinimg.com/736x/91/cd/da/91cdda3fe434aacfda3c784d1ce108ab.jpg\" height=\"400\">\n",
    "> \n",
    "> 助教平時在研究室敲檢盤敲得好痛苦，想買個手伴，讓冷冷的桌面有一點溫興的感覺\n",
    "> \n",
    "> <img src=\"https://raw.githubusercontent.com/kcwc1029/obsidian-upgit-image/main/2025/03/upgit_20250323_1742722899.png\" height=\"400\">\n",
    ">\n",
    "> 但是，助教因為手頭緊緊，確定無法3個手伴都買，那這時候，就是一個人生交叉十字路口的選擇...\n",
    ">\n",
    "> 這邊就是條件句使用的一個好情況\n",
    "\n",
    "\n",
    "好啦掰不下去了，來好好講正常的\n",
    "\n",
    "> 如果發生...，就...\n",
    "\n",
    "> 如果【助教的錢錢可以買3隻手伴】，【助教就會很開心全買】\n",
    ">\n",
    "> 那如果【助教的錢錢可以買2隻手伴】，【助教就先找雷姆跟拉姆的組合手伴】\n",
    ">\n",
    "> 如果真的沒辦法，就【先買艾米利亞】\n",
    "\n"
   ]
  },
  {
   "cell_type": "markdown",
   "metadata": {},
   "source": [
    "## 列表\n",
    "- 在python當中，他叫列表(list)\n",
    "- 在其他程式中，他叫陣列(array)\n",
    "\n",
    "今天助教想要將大家的名字儲存起來，那你覺得助教應該怎麼做\n",
    "\n",
    "像這樣嗎?"
   ]
  },
  {
   "cell_type": "code",
   "execution_count": 26,
   "metadata": {},
   "outputs": [
    {
     "name": "stdout",
     "output_type": "stream",
     "text": [
      "艾姬多娜\n"
     ]
    }
   ],
   "source": [
    "student00 = \"菜月昴\"\n",
    "student01 = \"愛蜜莉雅\"\n",
    "student02 = \"帕克\"\n",
    "student03 = \"雷姆\"\n",
    "student04 = \"拉姆\"\n",
    "student05 = \"艾姬多娜\"\n",
    "\n",
    "print(student05)"
   ]
  },
  {
   "cell_type": "markdown",
   "metadata": {},
   "source": [
    "這個時候，你是不是在心裡OS\n",
    "\n",
    "> 如果我有100個，我不就要做一百次資料嗎...\n",
    "\n",
    "<img src=\"https://i.pinimg.com/736x/21/e1/02/21e1029e0ded502d16674bb82806f051.jpg\" height=\"200\">\n",
    "\n",
    "助教有聽到你的疑問了~~\n",
    "\n",
    "這時候，我們又要用這個東西~~陣列\n",
    "\n",
    "> 補充\n",
    "> \n",
    "> 其實呀，學程式這件事，他就是在電腦裡面，去做各式各樣的容器與指令\n",
    "> \n",
    "> 這邊提到的容器，指的就是裝資料的方式\n",
    "> \n",
    "> 如果未來你得的是資訊相關科系，就會碰到大名鼎鼎的課程【資料結構】"
   ]
  },
  {
   "cell_type": "markdown",
   "metadata": {},
   "source": [
    "<img src=\"https://raw.githubusercontent.com/kcwc1029/obsidian-upgit-image/main/2025/03/upgit_20250323_1742721868.png\" height=\"100\">"
   ]
  },
  {
   "cell_type": "code",
   "execution_count": null,
   "metadata": {},
   "outputs": [
    {
     "name": "stdout",
     "output_type": "stream",
     "text": [
      "菜月昴\n",
      "雷姆\n",
      "艾姬多娜\n",
      "拉姆\n"
     ]
    }
   ],
   "source": [
    "student = [\"菜月昴\",\"愛蜜莉雅\",\"帕克\",\"雷姆\",\"拉姆\",\"艾姬多娜\"]\n",
    "\n",
    "print(student[0])\n",
    "print(student[3])\n",
    "\n",
    "print(student[-1])\n",
    "print(student[-2])"
   ]
  }
 ],
 "metadata": {
  "kernelspec": {
   "display_name": "base",
   "language": "python",
   "name": "python3"
  },
  "language_info": {
   "codemirror_mode": {
    "name": "ipython",
    "version": 3
   },
   "file_extension": ".py",
   "mimetype": "text/x-python",
   "name": "python",
   "nbconvert_exporter": "python",
   "pygments_lexer": "ipython3",
   "version": "3.12.3"
  }
 },
 "nbformat": 4,
 "nbformat_minor": 2
}
